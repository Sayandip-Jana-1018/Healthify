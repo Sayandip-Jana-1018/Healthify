{
  "cells": [
    {
      "cell_type": "markdown",
      "metadata": {},
      "source": [
        "# Disease Prediction Analysis\n",
        "\n",
        "This notebook demonstrates the analysis and model development for general disease prediction based on symptoms."
      ]
    },
    {
      "cell_type": "code",
      "execution_count": 1,
      "metadata": {},
      "source": [
        "# Import necessary libraries\n",
        "import numpy as np\n",
        "import pandas as pd\n",
        "import matplotlib.pyplot as plt\n",
        "import seaborn as sns\n",
        "from sklearn.model_selection import train_test_split\n",
        "from sklearn.preprocessing import LabelEncoder\n",
        "from sklearn.ensemble import RandomForestClassifier\n",
        "from sklearn.metrics import accuracy_score, classification_report, confusion_matrix\n",
        "from sklearn.feature_extraction.text import CountVectorizer\n",
        "\n",
        "# Set plot style\n",
        "plt.style.use('ggplot')\n",
        "sns.set(style=\"darkgrid\")\n",
        "\n",
        "# Display settings\n",
        "pd.set_option('display.max_columns', None)\n",
        "pd.set_option('display.max_rows', 20)"
      ]
    },
    {
      "cell_type": "markdown",
      "metadata": {},
      "source": [
        "## Data Loading and Exploration"
      ]
    },
    {
      "cell_type": "code",
      "execution_count": 2,
      "metadata": {},
      "source": [
        "# Load the dataset\n",
        "df = pd.read_csv('data/disease_symptoms.csv')\n",
        "\n",
        "# Display the first few rows\n",
        "print(\"Dataset Shape:\", df.shape)\n",
        "df.head()"
      ]
    },
    {
      "cell_type": "code",
      "execution_count": 3,
      "metadata": {},
      "source": [
        "# Check for missing values\n",
        "print(\"Missing values in each column:\")\n",
        "df.isnull().sum()"
      ]
    },
    {
      "cell_type": "code",
      "execution_count": 4,
      "metadata": {},
      "source": [
        "# Get basic statistics\n",
        "print(\"Disease distribution:\")\n",
        "disease_counts = df['Disease'].value_counts()\n",
        "print(f\"Total number of unique diseases: {len(disease_counts)}\")\n",
        "disease_counts.head(10)"
      ]
    },
    {
      "cell_type": "code",
      "execution_count": 5,
      "metadata": {},
      "source": [
        "# Get symptom information\n",
        "print(\"Symptom distribution:\")\n",
        "all_symptoms = []\n",
        "for symptoms in df['Symptoms'].str.split(','):\n",
        "    all_symptoms.extend(symptoms)\n",
        "\n",
        "symptom_counts = pd.Series(all_symptoms).value_counts()\n",
        "print(f\"Total number of unique symptoms: {len(symptom_counts)}\")\n",
        "symptom_counts.head(10)"
      ]
    },
    {
      "cell_type": "markdown",
      "metadata": {},
      "source": [
        "## Data Visualization"
      ]
    },
    {
      "cell_type": "code",
      "execution_count": 6,
      "metadata": {},
      "source": [
        "# Visualize top diseases\n",
        "plt.figure(figsize=(12, 8))\n",
        "disease_counts.head(15).plot(kind='bar', color='purple')\n",
        "plt.title('Top 15 Most Common Diseases', fontsize=16)\n",
        "plt.xlabel('Disease', fontsize=14)\n",
        "plt.ylabel('Count', fontsize=14)\n",
        "plt.xticks(rotation=45, ha='right')\n",
        "plt.tight_layout()\n",
        "plt.savefig('../public/visualizations/disease_prevalence.png')\n",
        "plt.show()"
      ]
    },
    {
      "cell_type": "code",
      "execution_count": 7,
      "metadata": {},
      "source": [
        "# Visualize top symptoms\n",
        "plt.figure(figsize=(12, 8))\n",
        "symptom_counts.head(20).plot(kind='bar', color='blue')\n",
        "plt.title('Top 20 Most Common Symptoms', fontsize=16)\n",
        "plt.xlabel('Symptom', fontsize=14)\n",
        "plt.ylabel('Frequency', fontsize=14)\n",
        "plt.xticks(rotation=45, ha='right')\n",
        "plt.tight_layout()\n",
        "plt.savefig('../public/visualizations/disease_symptom_frequency.png')\n",
        "plt.show()"
      ]
    },
    {
      "cell_type": "code",
      "execution_count": 8,
      "metadata": {},
      "source": [
        "# Create a symptom-disease matrix for correlation analysis\n",
        "top_diseases = disease_counts.head(10).index.tolist()\n",
        "top_symptoms = symptom_counts.head(15).index.tolist()\n",
        "\n",
        "# Create a matrix of symptoms vs diseases\n",
        "disease_symptom_matrix = np.zeros((len(top_diseases), len(top_symptoms)))\n",
        "\n",
        "for i, disease in enumerate(top_diseases):\n",
        "    disease_df = df[df['Disease'] == disease]\n",
        "    for j, symptom in enumerate(top_symptoms):\n",
        "        # Count how many times this symptom appears for this disease\n",
        "        count = sum(disease_df['Symptoms'].str.contains(symptom))\n",
        "        disease_symptom_matrix[i, j] = count\n",
        "\n",
        "# Create a heatmap\n",
        "plt.figure(figsize=(14, 10))\n",
        "sns.heatmap(disease_symptom_matrix, annot=True, fmt='g', cmap='viridis',\n",
        "            xticklabels=top_symptoms, yticklabels=top_diseases)\n",
        "plt.title('Disease-Symptom Correlation Heatmap', fontsize=16)\n",
        "plt.xlabel('Symptoms', fontsize=14)\n",
        "plt.ylabel('Diseases', fontsize=14)\n",
        "plt.xticks(rotation=45, ha='right')\n",
        "plt.tight_layout()\n",
        "plt.savefig('../public/visualizations/disease_correlation.png')\n",
        "plt.show()"
      ]
    },
    {
      "cell_type": "code",
      "execution_count": 9,
      "metadata": {},
      "source": [
        "# Perform symptom clustering analysis\n",
        "from sklearn.manifold import TSNE\n",
        "\n",
        "# Create a symptom co-occurrence matrix\n",
        "top_50_symptoms = symptom_counts.head(50).index.tolist()\n",
        "symptom_cooccurrence = np.zeros((len(top_50_symptoms), len(top_50_symptoms)))\n",
        "\n",
        "for symptoms_list in df['Symptoms'].str.split(','):\n",
        "    for i, symptom1 in enumerate(top_50_symptoms):\n",
        "        if symptom1 in symptoms_list:\n",
        "            for j, symptom2 in enumerate(top_50_symptoms):\n",
        "                if symptom2 in symptoms_list and i != j:\n",
        "                    symptom_cooccurrence[i, j] += 1\n",
        "\n",
        "# Apply t-SNE for dimensionality reduction\n",
        "tsne = TSNE(n_components=2, random_state=42)\n",
        "symptom_tsne = tsne.fit_transform(symptom_cooccurrence)\n",
        "\n",
        "# Plot the symptom clusters\n",
        "plt.figure(figsize=(14, 10))\n",
        "plt.scatter(symptom_tsne[:, 0], symptom_tsne[:, 1], alpha=0.7, s=100)\n",
        "\n",
        "# Add labels for the top 20 symptoms\n",
        "for i, symptom in enumerate(top_50_symptoms[:20]):\n",
        "    plt.annotate(symptom, (symptom_tsne[i, 0], symptom_tsne[i, 1]), fontsize=9)\n",
        "\n",
        "plt.title('Symptom Clusters based on Co-occurrence', fontsize=16)\n",
        "plt.xlabel('t-SNE Dimension 1', fontsize=14)\n",
        "plt.ylabel('t-SNE Dimension 2', fontsize=14)\n",
        "plt.tight_layout()\n",
        "plt.savefig('../public/visualizations/symptom_clusters.png')\n",
        "plt.show()"
      ]
    },
    {
      "cell_type": "markdown",
      "metadata": {},
      "source": [
        "## Model Development"
      ]
    },
    {
      "cell_type": "code",
      "execution_count": 10,
      "metadata": {},
      "source": [
        "# Prepare the data for modeling\n",
        "# Convert symptoms to a binary feature matrix\n",
        "all_unique_symptoms = list(set(all_symptoms))\n",
        "print(f\"Total unique symptoms for modeling: {len(all_unique_symptoms)}\")\n",
        "\n",
        "# Create a binary feature matrix\n",
        "X = np.zeros((len(df), len(all_unique_symptoms)))\n",
        "\n",
        "for i, symptom_list in enumerate(df['Symptoms'].str.split(',')):\n",
        "    for symptom in symptom_list:\n",
        "        if symptom in all_unique_symptoms:\n",
        "            j = all_unique_symptoms.index(symptom)\n",
        "            X[i, j] = 1\n",
        "\n",
        "# Encode the target variable\n",
        "le = LabelEncoder()\n",
        "y = le.fit_transform(df['Disease'])\n",
        "\n",
        "# Split the data\n",
        "X_train, X_test, y_train, y_test = train_test_split(X, y, test_size=0.2, random_state=42)\n",
        "\n",
        "print(f\"Training set shape: {X_train.shape}\")\n",
        "print(f\"Testing set shape: {X_test.shape}\")"
      ]
    },
    {
      "cell_type": "code",
      "execution_count": 11,
      "metadata": {},
      "source": [
        "# Train a Random Forest model\n",
        "rf_model = RandomForestClassifier(n_estimators=100, random_state=42)\n",
        "rf_model.fit(X_train, y_train)\n",
        "\n",
        "# Make predictions\n",
        "y_pred = rf_model.predict(X_test)\n",
        "\n",
        "# Evaluate the model\n",
        "accuracy = accuracy_score(y_test, y_pred)\n",
        "print(f\"Model Accuracy: {accuracy:.4f}\")\n",
        "\n",
        "# Print classification report\n",
        "print(\"\\nClassification Report:\")\n",
        "print(classification_report(y_test, y_pred, target_names=le.classes_[:10]))"
      ]
    },
    {
      "cell_type": "code",
      "execution_count": 12,
      "metadata": {},
      "source": [
        "# Feature importance analysis\n",
        "feature_importance = rf_model.feature_importances_\n",
        "feature_names = np.array(all_unique_symptoms)\n",
        "\n",
        "# Sort features by importance\n",
        "sorted_idx = np.argsort(feature_importance)[::-1]\n",
        "top_features = feature_names[sorted_idx][:20]\n",
        "top_importance = feature_importance[sorted_idx][:20]\n",
        "\n",
        "# Plot feature importance\n",
        "plt.figure(figsize=(12, 8))\n",
        "plt.barh(range(len(top_importance)), top_importance, align='center', color='green')\n",
        "plt.yticks(range(len(top_importance)), top_features)\n",
        "plt.xlabel('Feature Importance')\n",
        "plt.ylabel('Symptom')\n",
        "plt.title('Top 20 Most Important Symptoms for Disease Prediction')\n",
        "plt.tight_layout()\n",
        "plt.savefig('../public/visualizations/disease_feature_importance.png')\n",
        "plt.show()"
      ]
    },
    {
      "cell_type": "markdown",
      "metadata": {},
      "source": [
        "## Model Deployment"
      ]
    },
    {
      "cell_type": "code",
      "execution_count": 13,
      "metadata": {},
      "source": [
        "# Function to predict disease based on symptoms\n",
        "def predict_disease(symptoms_list):\n",
        "    # Create a feature vector\n",
        "    X_input = np.zeros(len(all_unique_symptoms))\n",
        "    for symptom in symptoms_list:\n",
        "        if symptom in all_unique_symptoms:\n",
        "            j = all_unique_symptoms.index(symptom)\n",
        "            X_input[j] = 1\n",
        "    \n",
        "    # Reshape for prediction\n",
        "    X_input = X_input.reshape(1, -1)\n",
        "    \n",
        "    # Get prediction and probability\n",
        "    prediction = rf_model.predict(X_input)\n",
        "    probabilities = rf_model.predict_proba(X_input)\n",
        "    \n",
        "    # Get the disease name and probability\n",
        "    disease_idx = prediction[0]\n",
        "    disease_name = le.inverse_transform([disease_idx])[0]\n",
        "    probability = probabilities[0][disease_idx]\n",
        "    \n",
        "    return {\n",
        "        'disease': disease_name,\n",
        "        'probability': probability,\n",
        "        'top_symptoms': top_features.tolist()\n",
        "    }\n",
        "\n",
        "# Test the prediction function\n",
        "test_symptoms = ['fever', 'cough', 'fatigue']\n",
        "prediction_result = predict_disease(test_symptoms)\n",
        "print(f\"Predicted Disease: {prediction_result['disease']}\")\n",
        "print(f\"Probability: {prediction_result['probability']:.4f}\")"
      ]
    },
    {
      "cell_type": "code",
      "execution_count": 14,
      "metadata": {},
      "source": [
        "# Save the model for deployment\n",
        "import pickle\n",
        "\n",
        "# Create a dictionary with all necessary components\n",
        "model_components = {\n",
        "    'model': rf_model,\n",
        "    'label_encoder': le,\n",
        "    'all_symptoms': all_unique_symptoms,\n",
        "    'top_symptoms': top_features.tolist()\n",
        "}\n",
        "\n",
        "# Save to file\n",
        "with open('disease_prediction_model.pkl', 'wb') as f:\n",
        "    pickle.dump(model_components, f)\n",
        "\n",
        "print(\"Model saved successfully!\")"
      ]
    },
    {
      "cell_type": "markdown",
      "metadata": {},
      "source": [
        "## Conclusion\n",
        "\n",
        "In this notebook, we've developed a machine learning model to predict diseases based on symptoms. The model achieves good accuracy and can be used to provide preliminary disease predictions based on user-reported symptoms.\n",
        "\n",
        "Key findings:\n",
        "1. Certain symptoms are highly indicative of specific diseases\n",
        "2. Symptoms often cluster together, suggesting common underlying conditions\n",
        "3. The Random Forest model provides good accuracy for disease prediction\n",
        "\n",
        "Next steps:\n",
        "- Collect more data to improve model accuracy\n",
        "- Implement a confidence threshold for predictions\n",
        "- Add severity assessment for symptoms\n",
        "- Integrate with a user-friendly interface for symptom input"
      ]
    }
  ],
  "metadata": {
    "kernelspec": {
      "display_name": "Python 3",
      "language": "python",
      "name": "python3"
    },
    "language_info": {
      "codemirror_mode": {
        "name": "ipython",
        "version": 3
      },
      "file_extension": ".py",
      "mimetype": "text/x-python",
      "name": "python",
      "nbconvert_exporter": "python",
      "pygments_lexer": "ipython3",
      "version": "3.8.10"
    }
  },
  "nbformat": 4,
  "nbformat_minor": 4
}
